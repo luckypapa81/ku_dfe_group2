{
 "cells": [
  {
   "cell_type": "markdown",
   "metadata": {},
   "source": [
    "# 구글 플레이 스토어 리뷰 웹 크롤러\n",
    "- Contributor: Tony Park\n",
    "- References\n",
    "    - Tistory Blog | https://heytech.tistory.com/293\n",
    "    - Github | https://github.com/park-gb/playstore-review-crawler\n",
    "- Last Updated@2022-08-21"
   ]
  },
  {
   "cell_type": "markdown",
   "metadata": {},
   "source": [
    "# 초기 설정"
   ]
  },
  {
   "cell_type": "markdown",
   "metadata": {},
   "source": [
    "## 크롬 드라이버 세팅"
   ]
  },
  {
   "cell_type": "code",
   "execution_count": 2,
   "metadata": {},
   "outputs": [],
   "source": [
    "chrome_driver = '../chromedriver.exe' # 파일 확장자 이름 표기\n",
    "#chrome_driver = '../chromedriver' # 파일 확장자 이름 미표기"
   ]
  },
  {
   "cell_type": "markdown",
   "metadata": {},
   "source": [
    "## 수집 앱 URL"
   ]
  },
  {
   "cell_type": "code",
   "execution_count": 59,
   "metadata": {},
   "outputs": [],
   "source": [
    "#URL = 'https://play.google.com/store/apps/details?id=kr.co.kbc.mob.app.cust'\n",
    "URL = 'https://play.google.com/store/apps/details?id=com.shcard.smartpay'"
   ]
  },
  {
   "cell_type": "markdown",
   "metadata": {},
   "source": [
    "# 패키지 import"
   ]
  },
  {
   "cell_type": "code",
   "execution_count": 3,
   "metadata": {},
   "outputs": [],
   "source": [
    "import requests\n",
    "from selenium import webdriver\n",
    "from selenium.webdriver.common.keys import Keys\n",
    "from selenium.webdriver.support.ui import WebDriverWait\n",
    "from selenium.webdriver.support import expected_conditions as EC\n",
    "from selenium.webdriver.common.by import By\n",
    "from selenium.webdriver.common.keys import Keys\n",
    "from bs4 import BeautifulSoup\n",
    "import time\n",
    "from time import sleep\n",
    "import random\n",
    "import pandas as pd"
   ]
  },
  {
   "cell_type": "markdown",
   "metadata": {},
   "source": [
    "# 무한 스크롤 함수"
   ]
  },
  {
   "cell_type": "code",
   "execution_count": 55,
   "metadata": {},
   "outputs": [],
   "source": [
    "def scroll(modal):\n",
    "    scroll_count = 0\n",
    "    \n",
    "    try:        \n",
    "        # 스크롤 높이 받아오기\n",
    "        last_height = driver.execute_script(\"return arguments[0].scrollHeight\", modal)\n",
    "        while True:\n",
    "            #pause_time = random.uniform(0.5, 0.8)\n",
    "            pause_time = random.uniform(0.1, 0.2)\n",
    "            # 최하단까지 스크롤\n",
    "            driver.execute_script(\"arguments[0].scrollTo(0, arguments[0].scrollHeight);\", modal)\n",
    "            \n",
    "            # 페이지 로딩 대기\n",
    "            time.sleep(pause_time)\n",
    "            \n",
    "            # 무한 스크롤 동작을 위해 살짝 위로 스크롤\n",
    "            driver.execute_script(\"arguments[0].scrollTo(0, arguments[0].scrollHeight-50);\", modal)\n",
    "            \n",
    "            time.sleep(pause_time)\n",
    "            \n",
    "            # 스크롤 높이 새롭게 받아오기\n",
    "            new_height = driver.execute_script(\"return arguments[0].scrollHeight\", modal)\n",
    "\n",
    "            scroll_count+=1\n",
    "            print(\"cnt:{0} last:{1} new :{2}\".format(scroll_count, last_height, new_height))\n",
    "            try:\n",
    "                # '더보기' 버튼 있을 경우 클릭\n",
    "                all_review_button = driver.find_element_by_xpath('/html/body/div[1]/div[4]/c-wiz/div/div[2]/div/div/main/div/div[1]/div[2]/div[2]/div/span/span').click()\n",
    "            except:\n",
    "                # 스크롤 완료 경우\n",
    "                if new_height == last_height or scroll_count == 50: #메모리 부족으로 최대 50 scroll 제한해 둠\n",
    "                    print(\"스크롤 완료\")\n",
    "                    break\n",
    "                last_height = new_height\n",
    "                \n",
    "    except Exception as e:\n",
    "        print(\"에러 발생: \", e)"
   ]
  },
  {
   "cell_type": "markdown",
   "metadata": {},
   "source": [
    "# 데이터 크롤링"
   ]
  },
  {
   "cell_type": "code",
   "execution_count": 58,
   "metadata": {
    "jupyter": {
     "outputs_hidden": true
    },
    "scrolled": true,
    "tags": []
   },
   "outputs": [
    {
     "name": "stderr",
     "output_type": "stream",
     "text": [
      "C:\\Users\\안길모\\AppData\\Local\\Temp\\ipykernel_19052\\3666230225.py:48: DeprecationWarning: executable_path has been deprecated, please pass in a Service object\n",
      "  driver = webdriver.Chrome(chrome_driver, options = chrome_options)\n"
     ]
    },
    {
     "name": "stdout",
     "output_type": "stream",
     "text": [
      "cnt:1 last:11747 new :21375\n",
      "cnt:2 last:21375 new :44747\n",
      "cnt:3 last:44747 new :49519\n",
      "cnt:4 last:49519 new :49519\n",
      "스크롤 완료\n"
     ]
    }
   ],
   "source": [
    "# 크롬 드라이버 세팅\n",
    "chrome_options = webdriver.ChromeOptions()\n",
    "chrome_options.add_argument('--no-sandbox')\n",
    "#chrome_options.add_argument('--headless')\n",
    "chrome_options.add_argument('--disable-dev-shm-usage')\n",
    "chrome_options.add_argument('--disable-blink-features=AutomationControlled')\n",
    "\n",
    "#chrome_options.add_argument('window-size=1920x3072')\n",
    "user_agent = \"Mozilla/5.0 (Linux; Android 9; SM-G975F) AppleWebKit/537.36 (KHTML, like Gecko) Chrome/71.0.3578.83 Mobile Safari/537.36\"\n",
    "chrome_options.add_argument('user-agent=' + user_agent)\n",
    "chrome_options.add_argument('--blink-settings=imagesEnabled=false')\n",
    "chrome_options.add_argument('--start-fullscreen')\n",
    "chrome_options.add_argument('--mute-audio')\n",
    "chrome_options.add_argument('incognito')\n",
    "chrome_options.add_argument('disable-infobars')\n",
    "chrome_options.add_argument('--disable-extensions')\n",
    "\n",
    "# 속도 향상을 위한 옵션 해제 (10% 속도 향상?)\n",
    "prefs = {\n",
    "    'profile.default_content_setting_values': {\n",
    "        'cookies': 2,\n",
    "        'images': 2,\n",
    "        'plugins': 2,\n",
    "        'popups': 2,\n",
    "        'geolocation': 2,\n",
    "        'notifications': 2,\n",
    "        'auto_select_certificate': 2,\n",
    "        'mouselock': 2,\n",
    "        'mixed_script': 2,\n",
    "        'media_stream': 2,\n",
    "        'media_stream_mic': 2,\n",
    "        'media_stream_camera': 2,\n",
    "        'protocol_handlers': 2,\n",
    "        'ppapi_broker': 2,\n",
    "        'automatic_downloads': 2,\n",
    "        'midi_sysex': 2,\n",
    "        'push_messaging': 2,\n",
    "        'ssl_cert_decisions': 2,\n",
    "        'metro_switch_to_desktop': 2,\n",
    "        'protected_media_identifier': 2,\n",
    "        'app_banner': 2,\n",
    "        'site_engagement': 2,\n",
    "        'durable_storage': 2}\n",
    "    } \n",
    "chrome_options.add_experimental_option('prefs', prefs)\n",
    "\n",
    "\n",
    "driver = webdriver.Chrome(chrome_driver, options = chrome_options)\n",
    "# 페이지 열기\n",
    "driver.get(URL)\n",
    "# 페이지 로딩 대기\n",
    "wait = WebDriverWait(driver, 5)\n",
    "\n",
    "# '리뷰 모두 보기' 버튼 렌더링 확인(path 수정 @2022-06-22)\n",
    "all_review_button_xpath = '/html/body/c-wiz[2]/div/div/div[1]/div[2]/div/div[1]/c-wiz[4]/section/div/div/div[5]/div/div/button/span'\n",
    "button_loading_wait = wait.until(EC.element_to_be_clickable((By.XPATH, all_review_button_xpath)))\n",
    "# '리뷰 모두 보기' 버튼 클릭\n",
    "driver.find_element(By.XPATH,all_review_button_xpath).click()\n",
    "\n",
    "# '리뷰 모두 보기' 페이지 렌더링 대기\n",
    "all_review_page_xpath = '/html/body/div[4]/div[2]/div/div/div/div/div[2]'\n",
    "page_loading_wait = wait.until(EC.element_to_be_clickable((By.XPATH, all_review_page_xpath)))\n",
    "\n",
    "# 페이지 무한 스크롤 다운\n",
    "modal = WebDriverWait(driver, 2).until(EC.element_to_be_clickable((By.XPATH, \"//div[@class='fysCi']\")))\n",
    "scroll(modal)"
   ]
  },
  {
   "cell_type": "markdown",
   "metadata": {},
   "source": [
    "# HTML Parsing"
   ]
  },
  {
   "cell_type": "code",
   "execution_count": 45,
   "metadata": {},
   "outputs": [],
   "source": [
    "# html parsing하기\n",
    "html_source = driver.page_source\n",
    "soup_source = BeautifulSoup(html_source, 'html.parser')\n",
    "#soup_source = BeautifulSoup(html_source, 'html.parser', from_encoding='euc-kr')\n",
    "#print(str(soup_source))\n"
   ]
  },
  {
   "cell_type": "markdown",
   "metadata": {},
   "source": [
    "# 크롬 드라이버 종료"
   ]
  },
  {
   "cell_type": "code",
   "execution_count": 9,
   "metadata": {},
   "outputs": [],
   "source": [
    "driver.quit()"
   ]
  },
  {
   "cell_type": "markdown",
   "metadata": {},
   "source": [
    "# HTML 데이터 저장"
   ]
  },
  {
   "cell_type": "code",
   "execution_count": 46,
   "metadata": {},
   "outputs": [],
   "source": [
    "# html 데이터 저장\n",
    "#with open(\"../dataset/data_html.html\", \"w\", encoding = 'utf-8') as file: \n",
    "with open(\"../dataset/data_html.html\", \"w\", encoding = 'utf-8') as file: \n",
    "    file.write(str(soup_source))"
   ]
  },
  {
   "cell_type": "markdown",
   "metadata": {},
   "source": [
    "## 데이터프레임 변환"
   ]
  },
  {
   "cell_type": "code",
   "execution_count": 47,
   "metadata": {},
   "outputs": [],
   "source": [
    "# 리뷰 데이터 클래스 접근\n",
    "review_source = soup_source.find_all(class_ = 'RHo1pe')\n",
    "# 리뷰 데이터 저장용 배열\n",
    "dataset = []\n",
    "# 데이터 넘버링을 위한 변수\n",
    "review_num = 0 \n",
    "# 리뷰 1개씩 접근해 정보 추출\n",
    "for review in review_source:\n",
    "    review_num+=1\n",
    "    # 리뷰 등록일 데이터 추출\n",
    "    date_full = review.find_all(class_ = 'bp9Aid')[0].text\n",
    "    date_year = date_full[0:4] # 연도 데이터 추출\n",
    "    # 해당 단어가 등장한 인덱스 추출\n",
    "    year_index = date_full.find('년')\n",
    "    month_index = date_full.find('월')\n",
    "    day_index = date_full.find('일')\n",
    "    \n",
    "    date_month = str(int(date_full[year_index+1:month_index])) # 월(Month) 데이터 추출\n",
    "    # 월 정보가 1자리의 경우 앞에 0 붙이기(e.g., 1월 -> 01월)\n",
    "    if len(date_month) == 1:\n",
    "        date_month = '0' + date_month\n",
    "    \n",
    "    date_day = str(int(date_full[month_index+1:day_index])) # 일(Day) 데이터 추출 \n",
    "    # 일 정보가 1자리의 경우 앞에 0 붙여줌(e.g., 7일 -> 07일)\n",
    "    if len(date_day) == 1:\n",
    "        date_day = '0' + date_day\n",
    "    \n",
    "    # 리뷰 등록일 full version은 최종적으로 yyyymmdd 형태로 저장\n",
    "    date_full = date_year + date_month + date_day\n",
    "    user_name = review.find_all(class_ = 'X5PpBb')[0].text # 닉네임 데이터 추출\n",
    "    rating = review.find_all(class_ = \"iXRFPc\")[0]['aria-label'][10] # 평점 데이터 추출\n",
    "    content = review.find_all(class_ = 'h3YV2d')[0].text # 리뷰 데이터 추출\n",
    "\n",
    "    data = {\n",
    "        \"id\": review_num, \n",
    "        \"date\": date_full,\n",
    "        \"dateYear\": date_year,\n",
    "        \"dateMonth\": date_month,\n",
    "        \"dateDay\": date_day,\n",
    "        \"rating\": rating,\n",
    "        \"userName\": user_name,\n",
    "        \"content\": content\n",
    "    }\n",
    "    dataset.append(data)"
   ]
  },
  {
   "cell_type": "markdown",
   "metadata": {},
   "source": [
    "## 데이터프레임 저장"
   ]
  },
  {
   "cell_type": "code",
   "execution_count": 48,
   "metadata": {},
   "outputs": [],
   "source": [
    "df = pd.DataFrame(dataset)\n",
    "#df.to_csv('../dataset/review_dataset.csv', encoding = 'utf-8-sig') # csv 파일로 저장\n",
    "df.to_csv('../dataset/review_dataset.csv', encoding = 'utf-8-sig', escapechar='|') # csv 파일로 저장"
   ]
  },
  {
   "cell_type": "markdown",
   "metadata": {},
   "source": [
    "# 리뷰 데이터 불러오기"
   ]
  },
  {
   "cell_type": "code",
   "execution_count": 49,
   "metadata": {
    "scrolled": true
   },
   "outputs": [
    {
     "data": {
      "text/html": [
       "<div>\n",
       "<style scoped>\n",
       "    .dataframe tbody tr th:only-of-type {\n",
       "        vertical-align: middle;\n",
       "    }\n",
       "\n",
       "    .dataframe tbody tr th {\n",
       "        vertical-align: top;\n",
       "    }\n",
       "\n",
       "    .dataframe thead th {\n",
       "        text-align: right;\n",
       "    }\n",
       "</style>\n",
       "<table border=\"1\" class=\"dataframe\">\n",
       "  <thead>\n",
       "    <tr style=\"text-align: right;\">\n",
       "      <th></th>\n",
       "      <th>id</th>\n",
       "      <th>date</th>\n",
       "      <th>dateYear</th>\n",
       "      <th>dateMonth</th>\n",
       "      <th>dateDay</th>\n",
       "      <th>rating</th>\n",
       "      <th>userName</th>\n",
       "      <th>content</th>\n",
       "    </tr>\n",
       "  </thead>\n",
       "  <tbody>\n",
       "    <tr>\n",
       "      <th>0</th>\n",
       "      <td>1</td>\n",
       "      <td>20221001</td>\n",
       "      <td>2022</td>\n",
       "      <td>10</td>\n",
       "      <td>1</td>\n",
       "      <td>1</td>\n",
       "      <td>이투덜</td>\n",
       "      <td>기존에 쓰고 있는 어플을 업로드하면서 쓰면 되는데.. 괜히 다른앱을 만들어서 잡다한...</td>\n",
       "    </tr>\n",
       "    <tr>\n",
       "      <th>1</th>\n",
       "      <td>2</td>\n",
       "      <td>20220928</td>\n",
       "      <td>2022</td>\n",
       "      <td>9</td>\n",
       "      <td>28</td>\n",
       "      <td>1</td>\n",
       "      <td>헤도니카냥냥</td>\n",
       "      <td>재밌는사실 하나를 알려주기전에, 이 어플 UI제작자는 구조조정 대상 1순위임에 부족...</td>\n",
       "    </tr>\n",
       "    <tr>\n",
       "      <th>2</th>\n",
       "      <td>3</td>\n",
       "      <td>20220819</td>\n",
       "      <td>2022</td>\n",
       "      <td>8</td>\n",
       "      <td>19</td>\n",
       "      <td>2</td>\n",
       "      <td>yeseul yang</td>\n",
       "      <td>너무 메뉴가 많아서 그런지.. 이벤트의 경우도 이런 루트로 접속하면 다른 메뉴창이 ...</td>\n",
       "    </tr>\n",
       "    <tr>\n",
       "      <th>3</th>\n",
       "      <td>4</td>\n",
       "      <td>20220909</td>\n",
       "      <td>2022</td>\n",
       "      <td>9</td>\n",
       "      <td>9</td>\n",
       "      <td>1</td>\n",
       "      <td>이윤한</td>\n",
       "      <td>1) 한 눈에 안 들어오는 UI/ 기능은 쓸데없이 많아서 UI가 난잡하다. 거기다 ...</td>\n",
       "    </tr>\n",
       "    <tr>\n",
       "      <th>4</th>\n",
       "      <td>5</td>\n",
       "      <td>20220906</td>\n",
       "      <td>2022</td>\n",
       "      <td>9</td>\n",
       "      <td>6</td>\n",
       "      <td>2</td>\n",
       "      <td>박찬근</td>\n",
       "      <td>신한플러스의 걸음수가 워치를 통해서도 동기화되었으면 좋겠습니다. 신한라이프의 닐리리...</td>\n",
       "    </tr>\n",
       "    <tr>\n",
       "      <th>...</th>\n",
       "      <td>...</td>\n",
       "      <td>...</td>\n",
       "      <td>...</td>\n",
       "      <td>...</td>\n",
       "      <td>...</td>\n",
       "      <td>...</td>\n",
       "      <td>...</td>\n",
       "      <td>...</td>\n",
       "    </tr>\n",
       "    <tr>\n",
       "      <th>3835</th>\n",
       "      <td>3836</td>\n",
       "      <td>20220303</td>\n",
       "      <td>2022</td>\n",
       "      <td>3</td>\n",
       "      <td>3</td>\n",
       "      <td>5</td>\n",
       "      <td>채형규</td>\n",
       "      <td>처음에는 익숙하지 않아서 불편한듯 느꼈으나 업뎃하고 계속 이용하니까 메뉴 찾기도 편...</td>\n",
       "    </tr>\n",
       "    <tr>\n",
       "      <th>3836</th>\n",
       "      <td>3837</td>\n",
       "      <td>20220225</td>\n",
       "      <td>2022</td>\n",
       "      <td>2</td>\n",
       "      <td>25</td>\n",
       "      <td>5</td>\n",
       "      <td>엔쵸비</td>\n",
       "      <td>터치 결제 할 때 카드를 선택할 수 있는 화면이 먼저 실행 되는게 좋아요. 여러카드...</td>\n",
       "    </tr>\n",
       "    <tr>\n",
       "      <th>3837</th>\n",
       "      <td>3838</td>\n",
       "      <td>20220412</td>\n",
       "      <td>2022</td>\n",
       "      <td>4</td>\n",
       "      <td>12</td>\n",
       "      <td>5</td>\n",
       "      <td>Cold Spring</td>\n",
       "      <td>앱이 직관적이라 내가 찾고자 하는 기능을 쉽게 찾을 수 있어요! 사용자 중심의 친절...</td>\n",
       "    </tr>\n",
       "    <tr>\n",
       "      <th>3838</th>\n",
       "      <td>3839</td>\n",
       "      <td>20220430</td>\n",
       "      <td>2022</td>\n",
       "      <td>4</td>\n",
       "      <td>30</td>\n",
       "      <td>5</td>\n",
       "      <td>팡팡도라라</td>\n",
       "      <td>사용도 편하고 혜택도 풍성해서 자주 이용해요. 요즘 매일 이용하고 있어요. 사용법도...</td>\n",
       "    </tr>\n",
       "    <tr>\n",
       "      <th>3839</th>\n",
       "      <td>3840</td>\n",
       "      <td>20220108</td>\n",
       "      <td>2022</td>\n",
       "      <td>1</td>\n",
       "      <td>8</td>\n",
       "      <td>4</td>\n",
       "      <td>김진</td>\n",
       "      <td>사실 포인트받으려고 리뷰 써야지 하고 생각해 보니까, 이 앱 쓰면서 은근 편해졌다....</td>\n",
       "    </tr>\n",
       "  </tbody>\n",
       "</table>\n",
       "<p>3840 rows × 8 columns</p>\n",
       "</div>"
      ],
      "text/plain": [
       "        id      date  dateYear  dateMonth  dateDay  rating     userName  \\\n",
       "0        1  20221001      2022         10        1       1          이투덜   \n",
       "1        2  20220928      2022          9       28       1       헤도니카냥냥   \n",
       "2        3  20220819      2022          8       19       2  yeseul yang   \n",
       "3        4  20220909      2022          9        9       1          이윤한   \n",
       "4        5  20220906      2022          9        6       2          박찬근   \n",
       "...    ...       ...       ...        ...      ...     ...          ...   \n",
       "3835  3836  20220303      2022          3        3       5          채형규   \n",
       "3836  3837  20220225      2022          2       25       5          엔쵸비   \n",
       "3837  3838  20220412      2022          4       12       5  Cold Spring   \n",
       "3838  3839  20220430      2022          4       30       5        팡팡도라라   \n",
       "3839  3840  20220108      2022          1        8       4           김진   \n",
       "\n",
       "                                                content  \n",
       "0     기존에 쓰고 있는 어플을 업로드하면서 쓰면 되는데.. 괜히 다른앱을 만들어서 잡다한...  \n",
       "1     재밌는사실 하나를 알려주기전에, 이 어플 UI제작자는 구조조정 대상 1순위임에 부족...  \n",
       "2     너무 메뉴가 많아서 그런지.. 이벤트의 경우도 이런 루트로 접속하면 다른 메뉴창이 ...  \n",
       "3     1) 한 눈에 안 들어오는 UI/ 기능은 쓸데없이 많아서 UI가 난잡하다. 거기다 ...  \n",
       "4     신한플러스의 걸음수가 워치를 통해서도 동기화되었으면 좋겠습니다. 신한라이프의 닐리리...  \n",
       "...                                                 ...  \n",
       "3835  처음에는 익숙하지 않아서 불편한듯 느꼈으나 업뎃하고 계속 이용하니까 메뉴 찾기도 편...  \n",
       "3836  터치 결제 할 때 카드를 선택할 수 있는 화면이 먼저 실행 되는게 좋아요. 여러카드...  \n",
       "3837  앱이 직관적이라 내가 찾고자 하는 기능을 쉽게 찾을 수 있어요! 사용자 중심의 친절...  \n",
       "3838  사용도 편하고 혜택도 풍성해서 자주 이용해요. 요즘 매일 이용하고 있어요. 사용법도...  \n",
       "3839  사실 포인트받으려고 리뷰 써야지 하고 생각해 보니까, 이 앱 쓰면서 은근 편해졌다....  \n",
       "\n",
       "[3840 rows x 8 columns]"
      ]
     },
     "execution_count": 49,
     "metadata": {},
     "output_type": "execute_result"
    }
   ],
   "source": [
    "# 저장한 리뷰 정보 불러오기\n",
    "df = pd.read_csv('../dataset/review_dataset.csv', encoding = 'utf-8-sig')\n",
    "df = df.drop(['Unnamed: 0'], axis = 1) # 불필요한 칼럼 삭제\n",
    "df"
   ]
  },
  {
   "cell_type": "code",
   "execution_count": null,
   "metadata": {},
   "outputs": [],
   "source": []
  }
 ],
 "metadata": {
  "kernelspec": {
   "display_name": "Python 3 (ipykernel)",
   "language": "python",
   "name": "python3"
  },
  "language_info": {
   "codemirror_mode": {
    "name": "ipython",
    "version": 3
   },
   "file_extension": ".py",
   "mimetype": "text/x-python",
   "name": "python",
   "nbconvert_exporter": "python",
   "pygments_lexer": "ipython3",
   "version": "3.10.7"
  },
  "toc-autonumbering": true
 },
 "nbformat": 4,
 "nbformat_minor": 4
}
